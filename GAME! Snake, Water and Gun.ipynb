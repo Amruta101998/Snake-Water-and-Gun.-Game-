{
 "cells": [
  {
   "cell_type": "code",
   "execution_count": 9,
   "metadata": {},
   "outputs": [
    {
     "name": "stdout",
     "output_type": "stream",
     "text": [
      "computer turn  : snake(s) , water(w) or gun(g)?\n",
      "your turn  : snake(s) , water(w) or gun(g)? :w\n",
      "Computer choose g\n",
      "You choose w\n",
      "You Win!!!!\n"
     ]
    }
   ],
   "source": [
    "import random\n",
    "\n",
    "def game(comp,you):\n",
    "    if comp == you:\n",
    "        return None\n",
    "    elif comp == 's':\n",
    "        if you == 'w':\n",
    "            return False\n",
    "        elif you == 'g':\n",
    "            return True\n",
    "    elif comp == 'w':\n",
    "        if you == 'g':\n",
    "            return False\n",
    "        elif you == 's':\n",
    "            return True\n",
    "    elif comp == 'g':\n",
    "        if you == 's':\n",
    "            return False\n",
    "        elif you == 'w':\n",
    "            return True\n",
    "        \n",
    "print(\"computer turn  : snake(s) , water(w) or gun(g)?\")\n",
    "randNo = random.randint(1,3)\n",
    "\n",
    "if randNo == 1:\n",
    "    comp = 's'\n",
    "elif randNo == 2:\n",
    "    comp = 'w'\n",
    "else:\n",
    "    comp = 'g'\n",
    "    \n",
    "you = input(\"your turn  : snake(s) , water(w) or gun(g)? :\")\n",
    "a = game(comp,you)\n",
    "\n",
    "print(f\"Computer choose {comp}\")\n",
    "print(f\"You choose {you}\")\n",
    "\n",
    "if a == None:\n",
    "    print(\"Its Tie!\")\n",
    "elif a:\n",
    "    print(\"You Win!!!!\")\n",
    "else:\n",
    "    print(\"You Loose\")"
   ]
  },
  {
   "cell_type": "code",
   "execution_count": null,
   "metadata": {},
   "outputs": [],
   "source": []
  }
 ],
 "metadata": {
  "kernelspec": {
   "display_name": "Python 3",
   "language": "python",
   "name": "python3"
  },
  "language_info": {
   "codemirror_mode": {
    "name": "ipython",
    "version": 3
   },
   "file_extension": ".py",
   "mimetype": "text/x-python",
   "name": "python",
   "nbconvert_exporter": "python",
   "pygments_lexer": "ipython3",
   "version": "3.9.0"
  }
 },
 "nbformat": 4,
 "nbformat_minor": 4
}
